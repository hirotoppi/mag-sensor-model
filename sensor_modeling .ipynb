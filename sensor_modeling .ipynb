{
 "cells": [
  {
   "cell_type": "code",
   "execution_count": 36,
   "metadata": {},
   "outputs": [],
   "source": [
    "#センサデータを読み込んで、それを整形した表をつくる。その後、その表をもとにlidarデータをヒストグラム化\n",
    "\n",
    "#必要なものいろいろインポートするでー\n",
    "import numpy as np\n",
    "import pandas as pd\n",
    "import matplotlib.pyplot as plt\n",
    "from scipy import stats\n",
    "import seaborn as sns\n",
    "\n",
    "#センサデータを読み込んでそれを離散的な確率分布（確率質量関数分布）化するclass\n",
    "class Sensor_Data:\n",
    "    \n",
    "    #違うセンサデータファイルでもclassのメソッドを使えるように初期化\n",
    "    def __init__(self, file_name, delimiter, header, time, sensor1, probs):\n",
    "        self.file_name = file_name #ファイルの名前\n",
    "        self.delimiter = delimiter #delimiter…txtファイルで、隣り合うデータの区切り。半角スペースが多いかも\n",
    "        self.header = header #ファイルのヘッダー\n",
    "        #self.date = date #txtファイルで記録している日付\n",
    "        self.time = time #テキストファイルで記録している時間\n",
    "        self.sensor1 = sensor1 #テキストファイルで記録したsensor\n",
    "        #self.sensor2 = sensor2\n",
    "        self.probs = probs #表を回数→確率にするときに使う。（表の項目設定に使う。）\n",
    "    \n",
    "    #センサデータを読み込んで、それを表にする関数\n",
    "    #引数はclass内ですでに定義されたものだけを使うのでselfだけよん\n",
    "    def sensor_read_all(self):\n",
    "        data = pd.read_csv(self.file_name, self.delimiter, self.header, names = (self.time, self.sensor1))\n",
    "        return data\n",
    "    \n",
    "    #時系列データをプロットしてグラフにする関数\n",
    "    def all_time_series(self):\n",
    "        #x = read_data[self.time] #read_dataから横軸にしたい量である時間を取得\n",
    "        #y = read_data[self.sensor1] #read_dataから縦軸にしたい量である磁気強度を取得\n",
    "        #plt.ticker.StrMethodFormatter(\"{x:.6f}\")\n",
    "        plt.plot(read_data[self.time], read_data[self.sensor1]) #横軸をts、縦軸をmzsとしてぷろっとぷろっとー！！\n",
    "        plt.xlim(read_data[self.time].min(), read_data[self.time].max())\n",
    "        plt.xlabel('time(microsec)')\n",
    "        plt.ylabel('mz')\n",
    "        plt.show() #プロットしたグラフを表示\n",
    "        \n",
    "    def sns_time_series(self):\n",
    "        sns.lineplot(data=read_data[self.sensor1])\n",
    "        plt.show()\n",
    "    \n",
    "    #ヒストグラムのビンの数を計算する関数\n",
    "    def caluc_bins(self):\n",
    "        data_max = read_data[self.sensor1].max()\n",
    "        data_min = read_data[self.sensor1].min()\n",
    "        bins1 = data_max - data_min\n",
    "        bins2 = bins1 * 10 ** 6\n",
    "        return bins2\n",
    "    \n",
    "    \n",
    "    #上でつくった表からsensorごとにヒストグラム化する関数\n",
    "    #引数は、selfとヒストグラム化したいセンサの名前\n",
    "    def sensor_hist(self,bin_num):\n",
    "        #read_data[sensor].hist(bins=max(read_data[sensor])*10**6- min(read_data[sensor])*10**6, align=\"left\") \n",
    "        #binsは整数値じゃなきゃだめだから、磁気強度の値をこっちか記録時で定数倍しておく必要あり\n",
    "        read_data[self.sensor1].hist(bins=bin_num) #binsで指定した数をbinの個数としたヒストグラムができる\n",
    "        plt.show()\n",
    "        \n",
    "    #あるセンサデータの値が観測された回数と確率を表にする関数\n",
    "    def sensor_freqs(self):\n",
    "        #read_dataに保存した観測されたデータ数を数えて、それを表にする\n",
    "        freqs = pd.DataFrame(read_data[self.sensor1].value_counts())\n",
    "        \n",
    "        #上の表に、観測された回数を確率に直した段を加える\n",
    "        freqs[self.probs] = freqs[self.sensor1]/len(read_data[self.sensor1])\n",
    "        \n",
    "        freqs_sort = freqs[self.probs].sort_index()\n",
    "        #上の表だとセンサ値の昇順ではなく、回数の昇順になっている\n",
    "        #1列目をセンサ値を昇順にして、2列目をそのセンサ値が観測される確率にして返す\n",
    "        \n",
    "        return pd.DataFrame(freqs_sort)\n",
    "        \n",
    "        #表を横向きにして返す\n",
    "        #return freqs.transpose().sort_index()\n",
    "    \n",
    "    #sensor_freqsで作った表をヒストグラムにする関数\n",
    "    def sensor_hist_freqs(self, bins_num):\n",
    "        #return read_data_freqs[self.probs].sort_index().plot.bar()\n",
    "        read_data_freqs_T[self.probs].hist(bins=bins_num)\n",
    "    \n",
    "    #sensor_freqsで取得した表を、横軸：センサ値、縦軸；確率としたグラフ\n",
    "    #つまり、離散的確率分布\n",
    "    def sensor_probs(self):\n",
    "        plt.rcParams[\"figure.figsize\"] = (14, 8)\n",
    "        read_data_freqs2.plot.bar()\n",
    "        plt.xlabel('mz') #x軸をmzに\n",
    "        plt.ylabel('probs') #y軸をprobs(確率)に\n",
    "        plt.show() #ひょうじー！！！！\n",
    "        \n",
    "        #return read_data_freqs2.plot.bar()\n",
    "    \n",
    "    #センサデータから平均値、分散、最大値、最小値を求める\n",
    "    def sensor_caluc_para(self):\n",
    "        mean = read_data[self.sensor1].mean()\n",
    "        var = read_data[self.sensor1].var() #不偏分散\n",
    "        std = read_data[self.sensor1].std()\n",
    "        mz_min = read_data[self.sensor1].min() #最小値\n",
    "        mz_max = read_data[self.sensor1].max() #最大値\n",
    "        print(\"mean:\"+str(mean), \"var:\"+str(var), \"std:\"+str(std), \"mz_min:\"+str(mz_min), \"mz_max:\"+str(mz_max))\n",
    "    \n",
    "    #センサデータから平均値と分散を求めて、正規分布にする関数\n",
    "    def sensor_normal(self):\n",
    "        #平均値を求める\n",
    "        mean = read_data[self.sensor1].mean()\n",
    "        mean_6 = mean * 10 ** 6\n",
    "        #分散を求める\n",
    "        var = read_data[self.sensor1].var() #不偏分散\n",
    "        var_6 = var * 10 ** 6\n",
    "        #標準偏差ももとめるよ\n",
    "        std = read_data[self.sensor1].std()\n",
    "        \n",
    "        #正規分布の範囲きめるー\n",
    "        #平均値から±標準偏差の10倍にして、それを0.0001間隔でプロット\n",
    "        zs = np.arange(mean - 10 * std, mean + 10 * std, 0.0001)\n",
    "        plt.plot(zs,stats.norm.pdf(zs, loc=mean, scale=std)) #locで平均値。stdで標準偏差を指定するよう\n",
    "        plt.plot\n",
    "        \n",
    "#sns.distplotで,table_nameで指定したデータのヒストグラムを書く。bins1でヒストグラムのビンの数を指定\n",
    "    def sns_hist_pdf(self,data_name,bins1):\n",
    "        sns.histplot(data_name[self.sensor1],bins=bins1)\n",
    "        plt.show()\n",
    "        \n",
    "    #箱ひげ図\n",
    "    def box_fig(self):\n",
    "        sns.boxplot(y=read_data[self.sensor1], width=0.3, data=read_data)\n",
    "        plt.show()\n",
    "\n",
    "        \n",
    "#インスタンス化\n",
    "#sensor_data = Sensor_Data(\"3DM-DH_center_gnu_0625_1st.txt\", \" \", None, \"time\", \"3DM-DH_center_0625_1st\", \"Probs\")\n",
    "\n",
    "#表を生成\n",
    "#read_data = sensor_data.sensor_read_all()\n",
    "\n",
    "#表を出力\n",
    "#read_data\n"
   ]
  },
  {
   "cell_type": "code",
   "execution_count": 37,
   "metadata": {},
   "outputs": [
    {
     "data": {
      "text/html": [
       "<div>\n",
       "<style scoped>\n",
       "    .dataframe tbody tr th:only-of-type {\n",
       "        vertical-align: middle;\n",
       "    }\n",
       "\n",
       "    .dataframe tbody tr th {\n",
       "        vertical-align: top;\n",
       "    }\n",
       "\n",
       "    .dataframe thead th {\n",
       "        text-align: right;\n",
       "    }\n",
       "</style>\n",
       "<table border=\"1\" class=\"dataframe\">\n",
       "  <thead>\n",
       "    <tr style=\"text-align: right;\">\n",
       "      <th></th>\n",
       "      <th>time</th>\n",
       "      <th>3DM-DH_right_0625_1st</th>\n",
       "    </tr>\n",
       "  </thead>\n",
       "  <tbody>\n",
       "    <tr>\n",
       "      <th>0</th>\n",
       "      <td>5.528947e+10</td>\n",
       "      <td>0.639831</td>\n",
       "    </tr>\n",
       "    <tr>\n",
       "      <th>1</th>\n",
       "      <td>5.528947e+10</td>\n",
       "      <td>0.639831</td>\n",
       "    </tr>\n",
       "    <tr>\n",
       "      <th>2</th>\n",
       "      <td>5.528947e+10</td>\n",
       "      <td>0.639831</td>\n",
       "    </tr>\n",
       "    <tr>\n",
       "      <th>3</th>\n",
       "      <td>5.528947e+10</td>\n",
       "      <td>0.639831</td>\n",
       "    </tr>\n",
       "    <tr>\n",
       "      <th>4</th>\n",
       "      <td>5.528947e+10</td>\n",
       "      <td>0.639831</td>\n",
       "    </tr>\n",
       "    <tr>\n",
       "      <th>...</th>\n",
       "      <td>...</td>\n",
       "      <td>...</td>\n",
       "    </tr>\n",
       "    <tr>\n",
       "      <th>16070492</th>\n",
       "      <td>5.710721e+10</td>\n",
       "      <td>0.639060</td>\n",
       "    </tr>\n",
       "    <tr>\n",
       "      <th>16070493</th>\n",
       "      <td>5.710721e+10</td>\n",
       "      <td>0.639060</td>\n",
       "    </tr>\n",
       "    <tr>\n",
       "      <th>16070494</th>\n",
       "      <td>5.710721e+10</td>\n",
       "      <td>0.639060</td>\n",
       "    </tr>\n",
       "    <tr>\n",
       "      <th>16070495</th>\n",
       "      <td>5.710721e+10</td>\n",
       "      <td>0.639060</td>\n",
       "    </tr>\n",
       "    <tr>\n",
       "      <th>16070496</th>\n",
       "      <td>5.710721e+10</td>\n",
       "      <td>0.639060</td>\n",
       "    </tr>\n",
       "  </tbody>\n",
       "</table>\n",
       "<p>16070497 rows × 2 columns</p>\n",
       "</div>"
      ],
      "text/plain": [
       "                  time  3DM-DH_right_0625_1st\n",
       "0         5.528947e+10               0.639831\n",
       "1         5.528947e+10               0.639831\n",
       "2         5.528947e+10               0.639831\n",
       "3         5.528947e+10               0.639831\n",
       "4         5.528947e+10               0.639831\n",
       "...                ...                    ...\n",
       "16070492  5.710721e+10               0.639060\n",
       "16070493  5.710721e+10               0.639060\n",
       "16070494  5.710721e+10               0.639060\n",
       "16070495  5.710721e+10               0.639060\n",
       "16070496  5.710721e+10               0.639060\n",
       "\n",
       "[16070497 rows x 2 columns]"
      ]
     },
     "execution_count": 37,
     "metadata": {},
     "output_type": "execute_result"
    }
   ],
   "source": [
    "#インスタンス化\n",
    "sensor_data = Sensor_Data(\"3DM-DH_right_gnu_0625_1st.txt\", \" \", None, \"time\", \"3DM-DH_right_0625_1st\", \"Probs\")\n",
    "\n",
    "#表を生成\n",
    "read_data = sensor_data.sensor_read_all()\n",
    "\n",
    "#表を出力\n",
    "read_data"
   ]
  },
  {
   "cell_type": "code",
   "execution_count": 38,
   "metadata": {},
   "outputs": [
    {
     "data": {
      "image/png": "[encoded data removed]",
      "text/plain": [
       "<Figure size 432x288 with 1 Axes>"
      ]
     },
     "metadata": {
      "needs_background": "light"
     },
     "output_type": "display_data"
    }
   ],
   "source": [
    "#read_dataを時系列（Time series）グラフ化\n",
    "sensor_data.all_time_series()"
   ]
  },
  {
   "cell_type": "code",
   "execution_count": 27,
   "metadata": {},
   "outputs": [
    {
     "data": {
      "image/png": "[encoded data removed]",
      "text/plain": [
       "<Figure size 432x288 with 1 Axes>"
      ]
     },
     "metadata": {
      "needs_background": "light"
     },
     "output_type": "display_data"
    }
   ],
   "source": [
    "#seabornによるread_dataのヒストグラム\n",
    "sensor_data.sns_hist_pdf(read_data, 500)"
   ]
  },
  {
   "cell_type": "code",
   "execution_count": 110,
   "metadata": {},
   "outputs": [
    {
     "data": {
      "image/png": "[encoded data removed]",
      "text/plain": [
       "<Figure size 1008x576 with 1 Axes>"
      ]
     },
     "metadata": {
      "needs_background": "light"
     },
     "output_type": "display_data"
    }
   ],
   "source": [
    "#箱ひげ図\n",
    "sensor_data.box_fig()"
   ]
  },
  {
   "cell_type": "code",
   "execution_count": 114,
   "metadata": {},
   "outputs": [
    {
     "data": {
      "text/html": [
       "<div>\n",
       "<style scoped>\n",
       "    .dataframe tbody tr th:only-of-type {\n",
       "        vertical-align: middle;\n",
       "    }\n",
       "\n",
       "    .dataframe tbody tr th {\n",
       "        vertical-align: top;\n",
       "    }\n",
       "\n",
       "    .dataframe thead th {\n",
       "        text-align: right;\n",
       "    }\n",
       "</style>\n",
       "<table border=\"1\" class=\"dataframe\">\n",
       "  <thead>\n",
       "    <tr style=\"text-align: right;\">\n",
       "      <th></th>\n",
       "      <th>Probs</th>\n",
       "    </tr>\n",
       "  </thead>\n",
       "  <tbody>\n",
       "    <tr>\n",
       "      <th>0.621341</th>\n",
       "      <td>0.000051</td>\n",
       "    </tr>\n",
       "    <tr>\n",
       "      <th>0.621533</th>\n",
       "      <td>0.000050</td>\n",
       "    </tr>\n",
       "    <tr>\n",
       "      <th>0.622111</th>\n",
       "      <td>0.000052</td>\n",
       "    </tr>\n",
       "    <tr>\n",
       "      <th>0.623459</th>\n",
       "      <td>0.000052</td>\n",
       "    </tr>\n",
       "    <tr>\n",
       "      <th>0.624422</th>\n",
       "      <td>0.000052</td>\n",
       "    </tr>\n",
       "    <tr>\n",
       "      <th>...</th>\n",
       "      <td>...</td>\n",
       "    </tr>\n",
       "    <tr>\n",
       "      <th>0.643105</th>\n",
       "      <td>0.001898</td>\n",
       "    </tr>\n",
       "    <tr>\n",
       "      <th>0.643297</th>\n",
       "      <td>0.000719</td>\n",
       "    </tr>\n",
       "    <tr>\n",
       "      <th>0.643490</th>\n",
       "      <td>0.000260</td>\n",
       "    </tr>\n",
       "    <tr>\n",
       "      <th>0.643683</th>\n",
       "      <td>0.000100</td>\n",
       "    </tr>\n",
       "    <tr>\n",
       "      <th>0.643875</th>\n",
       "      <td>0.000051</td>\n",
       "    </tr>\n",
       "  </tbody>\n",
       "</table>\n",
       "<p>73 rows × 1 columns</p>\n",
       "</div>"
      ],
      "text/plain": [
       "             Probs\n",
       "0.621341  0.000051\n",
       "0.621533  0.000050\n",
       "0.622111  0.000052\n",
       "0.623459  0.000052\n",
       "0.624422  0.000052\n",
       "...            ...\n",
       "0.643105  0.001898\n",
       "0.643297  0.000719\n",
       "0.643490  0.000260\n",
       "0.643683  0.000100\n",
       "0.643875  0.000051\n",
       "\n",
       "[73 rows x 1 columns]"
      ]
     },
     "execution_count": 114,
     "metadata": {},
     "output_type": "execute_result"
    }
   ],
   "source": [
    "#1列目がセンサ値、2列目がそのセンサ値が観測される確率の表を出力\n",
    "read_data_freqs2 = sensor_data.sensor_freqs()\n",
    "read_data_freqs2"
   ]
  },
  {
   "cell_type": "code",
   "execution_count": 118,
   "metadata": {},
   "outputs": [
    {
     "name": "stdout",
     "output_type": "stream",
     "text": [
      "7.189824558880018\n"
     ]
    }
   ],
   "source": [
    "#calculate sum of bin（スタージェスの公式）\n",
    "n = len(read_data_freqs2[\"Probs\"])\n",
    "m = 1 + np.log2(n)\n",
    "print(m)"
   ]
  },
  {
   "cell_type": "code",
   "execution_count": 85,
   "metadata": {},
   "outputs": [
    {
     "data": {
      "image/png": "[encoded data removed]",
      "text/plain": [
       "<Figure size 1008x576 with 1 Axes>"
      ]
     },
     "metadata": {
      "needs_background": "light"
     },
     "output_type": "display_data"
    }
   ],
   "source": [
    "#確率質量分布(probability mass function)を表示\n",
    "sensor_mass_dist = sensor_data.sensor_probs()\n",
    "sensor_mass_dist"
   ]
  },
  {
   "cell_type": "code",
   "execution_count": 86,
   "metadata": {},
   "outputs": [
    {
     "name": "stdout",
     "output_type": "stream",
     "text": [
      "mean:0.6390883842339692 var:4.04507169592291e-06 std:0.002011236360034024 mz_min:0.621341 mz_max:0.643875\n"
     ]
    }
   ],
   "source": [
    "sensor_data.sensor_caluc_para()"
   ]
  },
  {
   "cell_type": "code",
   "execution_count": 87,
   "metadata": {},
   "outputs": [
    {
     "data": {
      "image/png": "[encoded data removed]",
      "text/plain": [
       "<Figure size 1008x576 with 1 Axes>"
      ]
     },
     "metadata": {
      "needs_background": "light"
     },
     "output_type": "display_data"
    }
   ],
   "source": [
    "#計測データから求めた平均値と標準偏差を使って正規分布を作成\n",
    "#Gauss distribution by using mean and std calculated raw data\n",
    "sensor_data.sensor_normal()"
   ]
  },
  {
   "cell_type": "code",
   "execution_count": 88,
   "metadata": {},
   "outputs": [
    {
     "name": "stdout",
     "output_type": "stream",
     "text": [
      "22533\n"
     ]
    }
   ],
   "source": [
    "bins_num = int(sensor_data.caluc_bins())\n",
    "print(bins_num)"
   ]
  },
  {
   "cell_type": "code",
   "execution_count": 89,
   "metadata": {},
   "outputs": [
    {
     "data": {
      "text/plain": [
       "22533.99999999994"
      ]
     },
     "execution_count": 89,
     "metadata": {},
     "output_type": "execute_result"
    }
   ],
   "source": [
    "sensor_data.caluc_bins()"
   ]
  },
  {
   "cell_type": "code",
   "execution_count": 139,
   "metadata": {},
   "outputs": [
    {
     "data": {
      "text/html": [
       "<div>\n",
       "<style scoped>\n",
       "    .dataframe tbody tr th:only-of-type {\n",
       "        vertical-align: middle;\n",
       "    }\n",
       "\n",
       "    .dataframe tbody tr th {\n",
       "        vertical-align: top;\n",
       "    }\n",
       "\n",
       "    .dataframe thead th {\n",
       "        text-align: right;\n",
       "    }\n",
       "</style>\n",
       "<table border=\"1\" class=\"dataframe\">\n",
       "  <thead>\n",
       "    <tr style=\"text-align: right;\">\n",
       "      <th></th>\n",
       "      <th>time</th>\n",
       "      <th>3DM-DH_right_0706_2nd</th>\n",
       "    </tr>\n",
       "  </thead>\n",
       "  <tbody>\n",
       "    <tr>\n",
       "      <th>0</th>\n",
       "      <td>11054585741</td>\n",
       "      <td>0.621533</td>\n",
       "    </tr>\n",
       "    <tr>\n",
       "      <th>1</th>\n",
       "      <td>11054585984</td>\n",
       "      <td>0.621533</td>\n",
       "    </tr>\n",
       "    <tr>\n",
       "      <th>2</th>\n",
       "      <td>11054586211</td>\n",
       "      <td>0.621533</td>\n",
       "    </tr>\n",
       "    <tr>\n",
       "      <th>3</th>\n",
       "      <td>11054586419</td>\n",
       "      <td>0.621533</td>\n",
       "    </tr>\n",
       "    <tr>\n",
       "      <th>4</th>\n",
       "      <td>11054586627</td>\n",
       "      <td>0.621533</td>\n",
       "    </tr>\n",
       "    <tr>\n",
       "      <th>...</th>\n",
       "      <td>...</td>\n",
       "      <td>...</td>\n",
       "    </tr>\n",
       "    <tr>\n",
       "      <th>8408198</th>\n",
       "      <td>12857938230</td>\n",
       "      <td>0.620185</td>\n",
       "    </tr>\n",
       "    <tr>\n",
       "      <th>8408199</th>\n",
       "      <td>12857938442</td>\n",
       "      <td>0.620185</td>\n",
       "    </tr>\n",
       "    <tr>\n",
       "      <th>8408200</th>\n",
       "      <td>12857938659</td>\n",
       "      <td>0.620185</td>\n",
       "    </tr>\n",
       "    <tr>\n",
       "      <th>8408201</th>\n",
       "      <td>12857938905</td>\n",
       "      <td>0.620185</td>\n",
       "    </tr>\n",
       "    <tr>\n",
       "      <th>8408202</th>\n",
       "      <td>12857939081</td>\n",
       "      <td>0.620185</td>\n",
       "    </tr>\n",
       "  </tbody>\n",
       "</table>\n",
       "<p>8408203 rows × 2 columns</p>\n",
       "</div>"
      ],
      "text/plain": [
       "                time  3DM-DH_right_0706_2nd\n",
       "0        11054585741               0.621533\n",
       "1        11054585984               0.621533\n",
       "2        11054586211               0.621533\n",
       "3        11054586419               0.621533\n",
       "4        11054586627               0.621533\n",
       "...              ...                    ...\n",
       "8408198  12857938230               0.620185\n",
       "8408199  12857938442               0.620185\n",
       "8408200  12857938659               0.620185\n",
       "8408201  12857938905               0.620185\n",
       "8408202  12857939081               0.620185\n",
       "\n",
       "[8408203 rows x 2 columns]"
      ]
     },
     "execution_count": 139,
     "metadata": {},
     "output_type": "execute_result"
    }
   ],
   "source": [
    "#インスタンス化(車が１台も通らない、自転車は１台だけ通るとき)\n",
    "sensor_data = Sensor_Data(\"3DM-DH_right_gnu_0706_2nd.txt\", \" \", None, \"time\", \"3DM-DH_right_0706_2nd\", \"Probs\")\n",
    "\n",
    "#表を生成\n",
    "read_data = sensor_data.sensor_read_all()\n",
    "\n",
    "#表を出力\n",
    "read_data"
   ]
  },
  {
   "cell_type": "code",
   "execution_count": 140,
   "metadata": {},
   "outputs": [
    {
     "data": {
      "image/png": "[encoded data removed]",
      "text/plain": [
       "<Figure size 1008x576 with 1 Axes>"
      ]
     },
     "metadata": {
      "needs_background": "light"
     },
     "output_type": "display_data"
    }
   ],
   "source": [
    "#read_dataを時系列(Time series)グラフ化\n",
    "sensor_data.all_time_series()"
   ]
  },
  {
   "cell_type": "code",
   "execution_count": 144,
   "metadata": {},
   "outputs": [
    {
     "data": {
      "image/png": "[encoded data removed]",
      "text/plain": [
       "<Figure size 1008x576 with 1 Axes>"
      ]
     },
     "metadata": {
      "needs_background": "light"
     },
     "output_type": "display_data"
    }
   ],
   "source": [
    "#seabornによるread_dataのヒストグラム\n",
    "sensor_data.sns_hist_pdf(read_data, bins1=500)"
   ]
  },
  {
   "cell_type": "code",
   "execution_count": 145,
   "metadata": {},
   "outputs": [
    {
     "data": {
      "image/png": "[encoded data removed]",
      "text/plain": [
       "<Figure size 1008x576 with 1 Axes>"
      ]
     },
     "metadata": {
      "needs_background": "light"
     },
     "output_type": "display_data"
    }
   ],
   "source": [
    "#箱ひげ図\n",
    "sensor_data.box_fig()"
   ]
  },
  {
   "cell_type": "code",
   "execution_count": 146,
   "metadata": {},
   "outputs": [
    {
     "data": {
      "text/html": [
       "<div>\n",
       "<style scoped>\n",
       "    .dataframe tbody tr th:only-of-type {\n",
       "        vertical-align: middle;\n",
       "    }\n",
       "\n",
       "    .dataframe tbody tr th {\n",
       "        vertical-align: top;\n",
       "    }\n",
       "\n",
       "    .dataframe thead th {\n",
       "        text-align: right;\n",
       "    }\n",
       "</style>\n",
       "<table border=\"1\" class=\"dataframe\">\n",
       "  <thead>\n",
       "    <tr style=\"text-align: right;\">\n",
       "      <th></th>\n",
       "      <th>Probs</th>\n",
       "    </tr>\n",
       "  </thead>\n",
       "  <tbody>\n",
       "    <tr>\n",
       "      <th>0.618837</th>\n",
       "      <td>0.000051</td>\n",
       "    </tr>\n",
       "    <tr>\n",
       "      <th>0.619222</th>\n",
       "      <td>0.000157</td>\n",
       "    </tr>\n",
       "    <tr>\n",
       "      <th>0.619415</th>\n",
       "      <td>0.000415</td>\n",
       "    </tr>\n",
       "    <tr>\n",
       "      <th>0.619607</th>\n",
       "      <td>0.003004</td>\n",
       "    </tr>\n",
       "    <tr>\n",
       "      <th>0.619800</th>\n",
       "      <td>0.011497</td>\n",
       "    </tr>\n",
       "    <tr>\n",
       "      <th>0.619992</th>\n",
       "      <td>0.032960</td>\n",
       "    </tr>\n",
       "    <tr>\n",
       "      <th>0.620185</th>\n",
       "      <td>0.076658</td>\n",
       "    </tr>\n",
       "    <tr>\n",
       "      <th>0.620377</th>\n",
       "      <td>0.129291</td>\n",
       "    </tr>\n",
       "    <tr>\n",
       "      <th>0.620570</th>\n",
       "      <td>0.161998</td>\n",
       "    </tr>\n",
       "    <tr>\n",
       "      <th>0.620763</th>\n",
       "      <td>0.165157</td>\n",
       "    </tr>\n",
       "    <tr>\n",
       "      <th>0.620955</th>\n",
       "      <td>0.143572</td>\n",
       "    </tr>\n",
       "    <tr>\n",
       "      <th>0.621148</th>\n",
       "      <td>0.104068</td>\n",
       "    </tr>\n",
       "    <tr>\n",
       "      <th>0.621341</th>\n",
       "      <td>0.066679</td>\n",
       "    </tr>\n",
       "    <tr>\n",
       "      <th>0.621533</th>\n",
       "      <td>0.039149</td>\n",
       "    </tr>\n",
       "    <tr>\n",
       "      <th>0.621726</th>\n",
       "      <td>0.025780</td>\n",
       "    </tr>\n",
       "    <tr>\n",
       "      <th>0.621918</th>\n",
       "      <td>0.018646</td>\n",
       "    </tr>\n",
       "    <tr>\n",
       "      <th>0.622111</th>\n",
       "      <td>0.010713</td>\n",
       "    </tr>\n",
       "    <tr>\n",
       "      <th>0.622304</th>\n",
       "      <td>0.006320</td>\n",
       "    </tr>\n",
       "    <tr>\n",
       "      <th>0.622496</th>\n",
       "      <td>0.002742</td>\n",
       "    </tr>\n",
       "    <tr>\n",
       "      <th>0.622689</th>\n",
       "      <td>0.000836</td>\n",
       "    </tr>\n",
       "    <tr>\n",
       "      <th>0.622881</th>\n",
       "      <td>0.000151</td>\n",
       "    </tr>\n",
       "    <tr>\n",
       "      <th>0.623074</th>\n",
       "      <td>0.000154</td>\n",
       "    </tr>\n",
       "  </tbody>\n",
       "</table>\n",
       "</div>"
      ],
      "text/plain": [
       "             Probs\n",
       "0.618837  0.000051\n",
       "0.619222  0.000157\n",
       "0.619415  0.000415\n",
       "0.619607  0.003004\n",
       "0.619800  0.011497\n",
       "0.619992  0.032960\n",
       "0.620185  0.076658\n",
       "0.620377  0.129291\n",
       "0.620570  0.161998\n",
       "0.620763  0.165157\n",
       "0.620955  0.143572\n",
       "0.621148  0.104068\n",
       "0.621341  0.066679\n",
       "0.621533  0.039149\n",
       "0.621726  0.025780\n",
       "0.621918  0.018646\n",
       "0.622111  0.010713\n",
       "0.622304  0.006320\n",
       "0.622496  0.002742\n",
       "0.622689  0.000836\n",
       "0.622881  0.000151\n",
       "0.623074  0.000154"
      ]
     },
     "execution_count": 146,
     "metadata": {},
     "output_type": "execute_result"
    }
   ],
   "source": [
    "#1列目がセンサ値、2列目がそのセンサ値が観測される確率の表を出力\n",
    "read_data_freqs2 = sensor_data.sensor_freqs()\n",
    "read_data_freqs2"
   ]
  },
  {
   "cell_type": "code",
   "execution_count": 147,
   "metadata": {},
   "outputs": [
    {
     "name": "stdout",
     "output_type": "stream",
     "text": [
      "5.459431618637297\n"
     ]
    }
   ],
   "source": [
    "n = len(read_data_freqs2['Probs'])\n",
    "bins2 = 1 + np.log2(n)\n",
    "print(bins2)"
   ]
  },
  {
   "cell_type": "code",
   "execution_count": 148,
   "metadata": {},
   "outputs": [
    {
     "data": {
      "image/png": "[encoded data removed]",
      "text/plain": [
       "<Figure size 1008x576 with 1 Axes>"
      ]
     },
     "metadata": {
      "needs_background": "light"
     },
     "output_type": "display_data"
    }
   ],
   "source": [
    "#確率質量分布(probability mass function)を表示\n",
    "sensor_mass_dist = sensor_data.sensor_probs()\n",
    "sensor_mass_dist"
   ]
  },
  {
   "cell_type": "code",
   "execution_count": 149,
   "metadata": {},
   "outputs": [
    {
     "name": "stdout",
     "output_type": "stream",
     "text": [
      "mean:0.6208105639936141 var:2.465353859748197e-07 std:0.0004965232985216501 mz_min:0.618837 mz_max:0.623074\n"
     ]
    }
   ],
   "source": [
    "sensor_data.sensor_caluc_para()"
   ]
  },
  {
   "cell_type": "code",
   "execution_count": 3,
   "metadata": {},
   "outputs": [
    {
     "data": {
      "text/html": [
       "<div>\n",
       "<style scoped>\n",
       "    .dataframe tbody tr th:only-of-type {\n",
       "        vertical-align: middle;\n",
       "    }\n",
       "\n",
       "    .dataframe tbody tr th {\n",
       "        vertical-align: top;\n",
       "    }\n",
       "\n",
       "    .dataframe thead th {\n",
       "        text-align: right;\n",
       "    }\n",
       "</style>\n",
       "<table border=\"1\" class=\"dataframe\">\n",
       "  <thead>\n",
       "    <tr style=\"text-align: right;\">\n",
       "      <th></th>\n",
       "      <th>time</th>\n",
       "      <th>3DM-DH_left_0706_1st</th>\n",
       "    </tr>\n",
       "  </thead>\n",
       "  <tbody>\n",
       "    <tr>\n",
       "      <th>0</th>\n",
       "      <td>65576432007</td>\n",
       "      <td>0.617103</td>\n",
       "    </tr>\n",
       "    <tr>\n",
       "      <th>1</th>\n",
       "      <td>65576432268</td>\n",
       "      <td>0.617103</td>\n",
       "    </tr>\n",
       "    <tr>\n",
       "      <th>2</th>\n",
       "      <td>65576432476</td>\n",
       "      <td>0.617103</td>\n",
       "    </tr>\n",
       "    <tr>\n",
       "      <th>3</th>\n",
       "      <td>65576432683</td>\n",
       "      <td>0.617103</td>\n",
       "    </tr>\n",
       "    <tr>\n",
       "      <th>4</th>\n",
       "      <td>65576432890</td>\n",
       "      <td>0.617103</td>\n",
       "    </tr>\n",
       "    <tr>\n",
       "      <th>...</th>\n",
       "      <td>...</td>\n",
       "      <td>...</td>\n",
       "    </tr>\n",
       "    <tr>\n",
       "      <th>8425949</th>\n",
       "      <td>67379870873</td>\n",
       "      <td>0.614214</td>\n",
       "    </tr>\n",
       "    <tr>\n",
       "      <th>8425950</th>\n",
       "      <td>67379871065</td>\n",
       "      <td>0.614214</td>\n",
       "    </tr>\n",
       "    <tr>\n",
       "      <th>8425951</th>\n",
       "      <td>67379871235</td>\n",
       "      <td>0.614214</td>\n",
       "    </tr>\n",
       "    <tr>\n",
       "      <th>8425952</th>\n",
       "      <td>67379871415</td>\n",
       "      <td>0.614214</td>\n",
       "    </tr>\n",
       "    <tr>\n",
       "      <th>8425953</th>\n",
       "      <td>67379871862</td>\n",
       "      <td>0.614214</td>\n",
       "    </tr>\n",
       "  </tbody>\n",
       "</table>\n",
       "<p>8425954 rows × 2 columns</p>\n",
       "</div>"
      ],
      "text/plain": [
       "                time  3DM-DH_left_0706_1st\n",
       "0        65576432007              0.617103\n",
       "1        65576432268              0.617103\n",
       "2        65576432476              0.617103\n",
       "3        65576432683              0.617103\n",
       "4        65576432890              0.617103\n",
       "...              ...                   ...\n",
       "8425949  67379870873              0.614214\n",
       "8425950  67379871065              0.614214\n",
       "8425951  67379871235              0.614214\n",
       "8425952  67379871415              0.614214\n",
       "8425953  67379871862              0.614214\n",
       "\n",
       "[8425954 rows x 2 columns]"
      ]
     },
     "execution_count": 3,
     "metadata": {},
     "output_type": "execute_result"
    }
   ],
   "source": [
    "#インスタンス化（車が6台くらい、自転車もけっこう通る）\n",
    "sensor_data = Sensor_Data(\"3DM-DH_left_gnu_0706_1st.txt\", \" \", None, \"time\", \"3DM-DH_left_0706_1st\", \"Probs\")\n",
    "\n",
    "#表を生成\n",
    "read_data = sensor_data.sensor_read_all()\n",
    "\n",
    "#表を出力\n",
    "read_data"
   ]
  },
  {
   "cell_type": "code",
   "execution_count": 4,
   "metadata": {},
   "outputs": [
    {
     "data": {
      "image/png": "[encoded data removed]",
      "text/plain": [
       "<Figure size 432x288 with 1 Axes>"
      ]
     },
     "metadata": {
      "needs_background": "light"
     },
     "output_type": "display_data"
    }
   ],
   "source": [
    "#read_dataを時系列グラフ化\n",
    "sensor_data.all_time_series()"
   ]
  },
  {
   "cell_type": "code",
   "execution_count": 5,
   "metadata": {},
   "outputs": [
    {
     "ename": "AttributeError",
     "evalue": "module 'seaborn' has no attribute 'histplot'",
     "output_type": "error",
     "traceback": [
      "\u001b[1;31m---------------------------------------------------------------------------\u001b[0m",
      "\u001b[1;31mAttributeError\u001b[0m                            Traceback (most recent call last)",
      "\u001b[1;32m<ipython-input-5-a6b453bcbcbb>\u001b[0m in \u001b[0;36m<module>\u001b[1;34m\u001b[0m\n\u001b[0;32m      1\u001b[0m \u001b[1;31m#seabornによるread_dataのヒストグラム\u001b[0m\u001b[1;33m\u001b[0m\u001b[1;33m\u001b[0m\u001b[1;33m\u001b[0m\u001b[0m\n\u001b[1;32m----> 2\u001b[1;33m \u001b[0msensor_data\u001b[0m\u001b[1;33m.\u001b[0m\u001b[0msns_hist_pdf\u001b[0m\u001b[1;33m(\u001b[0m\u001b[0mread_data\u001b[0m\u001b[1;33m,\u001b[0m\u001b[0mbins1\u001b[0m\u001b[1;33m=\u001b[0m\u001b[1;36m500\u001b[0m\u001b[1;33m)\u001b[0m\u001b[1;33m\u001b[0m\u001b[1;33m\u001b[0m\u001b[0m\n\u001b[0m",
      "\u001b[1;32m<ipython-input-2-4012df2b2601>\u001b[0m in \u001b[0;36msns_hist_pdf\u001b[1;34m(self, data_name, bins1)\u001b[0m\n\u001b[0;32m    115\u001b[0m \u001b[1;31m#sns.distplotで,table_nameで指定したデータのヒストグラムを書く。bins1でヒストグラムのビンの数を指定\u001b[0m\u001b[1;33m\u001b[0m\u001b[1;33m\u001b[0m\u001b[1;33m\u001b[0m\u001b[0m\n\u001b[0;32m    116\u001b[0m     \u001b[1;32mdef\u001b[0m \u001b[0msns_hist_pdf\u001b[0m\u001b[1;33m(\u001b[0m\u001b[0mself\u001b[0m\u001b[1;33m,\u001b[0m\u001b[0mdata_name\u001b[0m\u001b[1;33m,\u001b[0m\u001b[0mbins1\u001b[0m\u001b[1;33m)\u001b[0m\u001b[1;33m:\u001b[0m\u001b[1;33m\u001b[0m\u001b[1;33m\u001b[0m\u001b[0m\n\u001b[1;32m--> 117\u001b[1;33m         \u001b[0msns\u001b[0m\u001b[1;33m.\u001b[0m\u001b[0mhistplot\u001b[0m\u001b[1;33m(\u001b[0m\u001b[0mdata_name\u001b[0m\u001b[1;33m[\u001b[0m\u001b[0mself\u001b[0m\u001b[1;33m.\u001b[0m\u001b[0msensor1\u001b[0m\u001b[1;33m]\u001b[0m\u001b[1;33m,\u001b[0m\u001b[0mbins\u001b[0m\u001b[1;33m=\u001b[0m\u001b[0mbins1\u001b[0m\u001b[1;33m)\u001b[0m\u001b[1;33m\u001b[0m\u001b[1;33m\u001b[0m\u001b[0m\n\u001b[0m\u001b[0;32m    118\u001b[0m         \u001b[0mplt\u001b[0m\u001b[1;33m.\u001b[0m\u001b[0mshow\u001b[0m\u001b[1;33m(\u001b[0m\u001b[1;33m)\u001b[0m\u001b[1;33m\u001b[0m\u001b[1;33m\u001b[0m\u001b[0m\n\u001b[0;32m    119\u001b[0m \u001b[1;33m\u001b[0m\u001b[0m\n",
      "\u001b[1;31mAttributeError\u001b[0m: module 'seaborn' has no attribute 'histplot'"
     ]
    }
   ],
   "source": [
    "#seabornによるread_dataのヒストグラム\n",
    "sensor_data.sns_hist_pdf(read_data,bins1=500)"
   ]
  },
  {
   "cell_type": "code",
   "execution_count": 153,
   "metadata": {},
   "outputs": [
    {
     "data": {
      "image/png": "[encoded data removed]",
      "text/plain": [
       "<Figure size 1008x576 with 1 Axes>"
      ]
     },
     "metadata": {
      "needs_background": "light"
     },
     "output_type": "display_data"
    }
   ],
   "source": [
    "#箱ひげ図\n",
    "sensor_data.box_fig()"
   ]
  },
  {
   "cell_type": "code",
   "execution_count": 154,
   "metadata": {},
   "outputs": [
    {
     "data": {
      "text/html": [
       "<div>\n",
       "<style scoped>\n",
       "    .dataframe tbody tr th:only-of-type {\n",
       "        vertical-align: middle;\n",
       "    }\n",
       "\n",
       "    .dataframe tbody tr th {\n",
       "        vertical-align: top;\n",
       "    }\n",
       "\n",
       "    .dataframe thead th {\n",
       "        text-align: right;\n",
       "    }\n",
       "</style>\n",
       "<table border=\"1\" class=\"dataframe\">\n",
       "  <thead>\n",
       "    <tr style=\"text-align: right;\">\n",
       "      <th></th>\n",
       "      <th>Probs</th>\n",
       "    </tr>\n",
       "  </thead>\n",
       "  <tbody>\n",
       "    <tr>\n",
       "      <th>0.607280</th>\n",
       "      <td>0.000052</td>\n",
       "    </tr>\n",
       "    <tr>\n",
       "      <th>0.607473</th>\n",
       "      <td>0.000052</td>\n",
       "    </tr>\n",
       "    <tr>\n",
       "      <th>0.607666</th>\n",
       "      <td>0.000051</td>\n",
       "    </tr>\n",
       "    <tr>\n",
       "      <th>0.608436</th>\n",
       "      <td>0.000052</td>\n",
       "    </tr>\n",
       "    <tr>\n",
       "      <th>0.608821</th>\n",
       "      <td>0.000052</td>\n",
       "    </tr>\n",
       "    <tr>\n",
       "      <th>...</th>\n",
       "      <td>...</td>\n",
       "    </tr>\n",
       "    <tr>\n",
       "      <th>0.658320</th>\n",
       "      <td>0.003405</td>\n",
       "    </tr>\n",
       "    <tr>\n",
       "      <th>0.658513</th>\n",
       "      <td>0.001130</td>\n",
       "    </tr>\n",
       "    <tr>\n",
       "      <th>0.658706</th>\n",
       "      <td>0.000406</td>\n",
       "    </tr>\n",
       "    <tr>\n",
       "      <th>0.658898</th>\n",
       "      <td>0.000102</td>\n",
       "    </tr>\n",
       "    <tr>\n",
       "      <th>0.659091</th>\n",
       "      <td>0.000052</td>\n",
       "    </tr>\n",
       "  </tbody>\n",
       "</table>\n",
       "<p>141 rows × 1 columns</p>\n",
       "</div>"
      ],
      "text/plain": [
       "             Probs\n",
       "0.607280  0.000052\n",
       "0.607473  0.000052\n",
       "0.607666  0.000051\n",
       "0.608436  0.000052\n",
       "0.608821  0.000052\n",
       "...            ...\n",
       "0.658320  0.003405\n",
       "0.658513  0.001130\n",
       "0.658706  0.000406\n",
       "0.658898  0.000102\n",
       "0.659091  0.000052\n",
       "\n",
       "[141 rows x 1 columns]"
      ]
     },
     "execution_count": 154,
     "metadata": {},
     "output_type": "execute_result"
    }
   ],
   "source": [
    "#1列目がセンサ値、2列目がそのセンサ値が観測される確率の表を出力\n",
    "read_data_freqs2 = sensor_data.sensor_freqs()\n",
    "read_data_freqs2"
   ]
  },
  {
   "cell_type": "code",
   "execution_count": 155,
   "metadata": {},
   "outputs": [
    {
     "data": {
      "image/png": "[encoded data removed]",
      "text/plain": [
       "<Figure size 1008x576 with 1 Axes>"
      ]
     },
     "metadata": {
      "needs_background": "light"
     },
     "output_type": "display_data"
    }
   ],
   "source": [
    "#確率質量分布(probability mass function)を表示\n",
    "sensor_mass_dist = sensor_data.sensor_probs()\n",
    "sensor_mass_dist"
   ]
  },
  {
   "cell_type": "code",
   "execution_count": 103,
   "metadata": {},
   "outputs": [
    {
     "name": "stdout",
     "output_type": "stream",
     "text": [
      "mean:0.6546888624028162 var:5.928382042266484e-06 std:0.002434826901910377 mz_min:0.60728 mz_max:0.659091\n"
     ]
    }
   ],
   "source": [
    "sensor_data.sensor_caluc_para()"
   ]
  },
  {
   "cell_type": "code",
   "execution_count": 156,
   "metadata": {},
   "outputs": [
    {
     "name": "stdout",
     "output_type": "stream",
     "text": [
      "8.139551352398794\n"
     ]
    }
   ],
   "source": [
    "n = len(read_data_freqs2['Probs'])\n",
    "bins2 = 1 + np.log2(n)\n",
    "print(bins2)"
   ]
  },
  {
   "cell_type": "code",
   "execution_count": 26,
   "metadata": {},
   "outputs": [
    {
     "name": "stdout",
     "output_type": "stream",
     "text": [
      "Probs    0.063836\n",
      "dtype: float64\n"
     ]
    }
   ],
   "source": [
    "print(read_data_freqs2.max())"
   ]
  },
  {
   "cell_type": "code",
   "execution_count": null,
   "metadata": {},
   "outputs": [],
   "source": []
  },
  {
   "cell_type": "code",
   "execution_count": null,
   "metadata": {},
   "outputs": [],
   "source": []
  }
 ],
 "metadata": {
  "kernelspec": {
   "display_name": "Python 3",
   "language": "python",
   "name": "python3"
  },
  "language_info": {
   "codemirror_mode": {
    "name": "ipython",
    "version": 3
   },
   "file_extension": ".py",
   "mimetype": "text/x-python",
   "name": "python",
   "nbconvert_exporter": "python",
   "pygments_lexer": "ipython3",
   "version": "3.8.10"
  }
 },
 "nbformat": 4,
 "nbformat_minor": 4
}
